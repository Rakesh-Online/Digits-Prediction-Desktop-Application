{
 "cells": [
  {
   "cell_type": "code",
   "execution_count": 8,
   "metadata": {},
   "outputs": [],
   "source": [
    "from sklearn.datasets import load_digits\n",
    "import matplotlib.pyplot as plt"
   ]
  },
  {
   "cell_type": "code",
   "execution_count": 3,
   "metadata": {},
   "outputs": [],
   "source": [
    "dataset = load_digits()"
   ]
  },
  {
   "cell_type": "code",
   "execution_count": 4,
   "metadata": {},
   "outputs": [],
   "source": [
    "data = dataset.data\n",
    "target = dataset.target\n",
    "images = dataset.images"
   ]
  },
  {
   "cell_type": "code",
   "execution_count": 7,
   "metadata": {},
   "outputs": [
    {
     "name": "stdout",
     "output_type": "stream",
     "text": [
      "data Shape : (1797, 64)\n",
      "Target Shape : (1797,)\n",
      "Images Shape : (1797, 8, 8)\n"
     ]
    }
   ],
   "source": [
    "print(\"data Shape :\", data.shape)\n",
    "print(\"Target Shape :\", target.shape)\n",
    "print(\"Images Shape :\", images.shape)"
   ]
  },
  {
   "cell_type": "code",
   "execution_count": 13,
   "metadata": {},
   "outputs": [
    {
     "data": {
      "text/plain": [
       "<matplotlib.image.AxesImage at 0x1d4b364a208>"
      ]
     },
     "execution_count": 13,
     "metadata": {},
     "output_type": "execute_result"
    },
    {
     "data": {
      "image/png": "[encoded data removed]",
      "text/plain": [
       "<Figure size 432x288 with 1 Axes>"
      ]
     },
     "metadata": {
      "needs_background": "light"
     },
     "output_type": "display_data"
    }
   ],
   "source": [
    "plt.imshow(images[10], cmap='gray')\n"
   ]
  },
  {
   "cell_type": "code",
   "execution_count": 12,
   "metadata": {},
   "outputs": [
    {
     "name": "stdout",
     "output_type": "stream",
     "text": [
      "Target:  0\n"
     ]
    }
   ],
   "source": [
    "print(\"Target: \",target[10])"
   ]
  },
  {
   "cell_type": "code",
   "execution_count": null,
   "metadata": {},
   "outputs": [],
   "source": [
    "import numpy as np"
   ]
  },
  {
   "cell_type": "code",
   "execution_count": 15,
   "metadata": {},
   "outputs": [
    {
     "data": {
      "text/plain": [
       "<matplotlib.image.AxesImage at 0x1d4b3bd0438>"
      ]
     },
     "execution_count": 15,
     "metadata": {},
     "output_type": "execute_result"
    },
    {
     "data": {
      "image/png": "[encoded data removed]",
      "text/plain": [
       "<Figure size 432x288 with 1 Axes>"
      ]
     },
     "metadata": {
      "needs_background": "light"
     },
     "output_type": "display_data"
    }
   ],
   "source": [
    "plt.imshow(images[10].reshape(1,64), cmap='gray')\n"
   ]
  },
  {
   "cell_type": "code",
   "execution_count": 16,
   "metadata": {},
   "outputs": [
    {
     "name": "stdout",
     "output_type": "stream",
     "text": [
      "[[ 0.  0.  1.  9. 15. 11.  0.  0.]\n",
      " [ 0.  0. 11. 16.  8. 14.  6.  0.]\n",
      " [ 0.  2. 16. 10.  0.  9.  9.  0.]\n",
      " [ 0.  1. 16.  4.  0.  8.  8.  0.]\n",
      " [ 0.  4. 16.  4.  0.  8.  8.  0.]\n",
      " [ 0.  1. 16.  5.  1. 11.  3.  0.]\n",
      " [ 0.  0. 12. 12. 10. 10.  0.  0.]\n",
      " [ 0.  0.  1. 10. 13.  3.  0.  0.]]\n"
     ]
    }
   ],
   "source": [
    "print(images[10])"
   ]
  },
  {
   "cell_type": "code",
   "execution_count": 17,
   "metadata": {},
   "outputs": [],
   "source": [
    "from sklearn.model_selection import train_test_split\n"
   ]
  },
  {
   "cell_type": "code",
   "execution_count": 23,
   "metadata": {},
   "outputs": [],
   "source": [
    "X_train, X_test,y_train, y_test = train_test_split(data,target, test_size=0.2)"
   ]
  },
  {
   "cell_type": "code",
   "execution_count": 25,
   "metadata": {},
   "outputs": [
    {
     "name": "stdout",
     "output_type": "stream",
     "text": [
      "(1437, 64)\n",
      "(1437,)\n",
      "(360, 64)\n",
      "(360,)\n"
     ]
    }
   ],
   "source": [
    "print(X_train.shape)\n",
    "print(y_train.shape)\n",
    "print(X_test.shape)\n",
    "print(y_test.shape)"
   ]
  },
  {
   "cell_type": "code",
   "execution_count": 26,
   "metadata": {},
   "outputs": [],
   "source": [
    "from sklearn.neighbors import KNeighborsClassifier"
   ]
  },
  {
   "cell_type": "code",
   "execution_count": 27,
   "metadata": {},
   "outputs": [],
   "source": [
    "model = KNeighborsClassifier()"
   ]
  },
  {
   "cell_type": "code",
   "execution_count": 28,
   "metadata": {},
   "outputs": [
    {
     "data": {
      "text/plain": [
       "KNeighborsClassifier()"
      ]
     },
     "execution_count": 28,
     "metadata": {},
     "output_type": "execute_result"
    }
   ],
   "source": [
    "model.fit(X_train, y_train)"
   ]
  },
  {
   "cell_type": "code",
   "execution_count": 29,
   "metadata": {},
   "outputs": [
    {
     "name": "stdout",
     "output_type": "stream",
     "text": [
      "(360, 64)\n"
     ]
    }
   ],
   "source": [
    "print(X_test.shape)"
   ]
  },
  {
   "cell_type": "code",
   "execution_count": 30,
   "metadata": {},
   "outputs": [
    {
     "name": "stdout",
     "output_type": "stream",
     "text": [
      "[5 3 7 7 6 3 2 0 0 5 7 2 1 7 4 2 6 6 9 0 7 5 3 8 4 2 6 6 6 2 3 4 7 8 6 1 7\n",
      " 2 6 7 9 6 3 9 1 1 0 6 9 4 6 8 0 1 3 5 0 6 6 8 1 5 9 4 5 1 0 6 6 8 0 5 3 5\n",
      " 1 6 4 3 3 9 1 5 9 4 9 4 7 0 8 7 1 4 8 5 9 3 0 6 7 9 9 2 2 3 1 5 9 3 2 6 3\n",
      " 0 0 6 9 1 8 9 4 3 2 7 9 0 6 8 0 4 1 4 1 3 0 2 1 9 3 4 3 4 0 1 2 5 4 4 8 0\n",
      " 2 6 2 4 5 3 0 5 4 7 0 4 2 7 8 9 7 1 3 1 0 8 1 6 3 5 3 6 9 3 1 5 3 0 3 7 4\n",
      " 9 1 9 0 8 5 6 2 8 8 4 9 5 1 2 7 3 9 5 7 7 1 1 7 4 4 6 5 2 6 6 8 1 8 5 4 9\n",
      " 8 1 1 1 1 8 2 3 5 0 5 0 2 1 8 4 5 4 0 6 4 9 6 2 2 7 6 9 8 5 7 8 0 2 0 1 4\n",
      " 9 2 3 2 5 9 9 5 7 0 7 5 9 4 6 4 8 4 4 6 1 7 0 1 9 8 7 5 0 0 9 4 4 8 0 4 8\n",
      " 9 7 7 8 7 9 7 0 4 8 8 4 1 4 4 2 8 1 1 7 2 4 7 0 2 1 6 2 1 9 2 4 4 1 3 8 4\n",
      " 5 3 1 2 9 2 8 8 5 1 3 0 3 7 2 6 0 0 7 0 1 6 8 2 5 1 9]\n"
     ]
    }
   ],
   "source": [
    "y_pred = model.predict(X_test)\n",
    "print(y_pred)"
   ]
  },
  {
   "cell_type": "code",
   "execution_count": 32,
   "metadata": {},
   "outputs": [
    {
     "data": {
      "text/plain": [
       "0.9916666666666667"
      ]
     },
     "execution_count": 32,
     "metadata": {},
     "output_type": "execute_result"
    }
   ],
   "source": [
    "from sklearn.metrics import accuracy_score\n",
    "\n",
    "accuracy_score(y_test,y_pred)"
   ]
  },
  {
   "cell_type": "code",
   "execution_count": 33,
   "metadata": {},
   "outputs": [
    {
     "name": "stdout",
     "output_type": "stream",
     "text": [
      "Predicted Digits : [5 3 7 7 6 3 2 0 0 5 7 2 1 7 4 2 6 6 9 0 7 5 3 8 4 2 6 6 6 2 3 4 7 8 6 1 7\n",
      " 2 6 7 9 6 3 9 1 1 0 6 9 4 6 8 0 1 3 5 0 6 6 8 1 5 9 4 5 1 0 6 6 8 0 5 3 5\n",
      " 1 6 4 3 3 9 1 5 9 4 9 4 7 0 8 7 1 4 8 5 9 3 0 6 7 9 9 2 2 3 1 5 9 3 2 6 3\n",
      " 0 0 6 9 1 8 9 4 3 2 7 9 0 6 8 0 4 1 4 1 3 0 2 1 9 3 4 3 4 0 1 2 5 4 4 8 0\n",
      " 2 6 2 4 5 3 0 5 4 7 0 4 2 7 8 9 7 1 3 1 0 8 1 6 3 5 3 6 9 3 1 5 3 0 3 7 4\n",
      " 9 1 9 0 8 5 6 2 8 8 4 9 5 1 2 7 3 9 5 7 7 1 1 7 4 4 6 5 2 6 6 8 1 8 5 4 9\n",
      " 8 1 1 1 1 8 2 3 5 0 5 0 2 1 8 4 5 4 0 6 4 9 6 2 2 7 6 9 8 5 7 8 0 2 0 1 4\n",
      " 9 2 3 2 5 9 9 5 7 0 7 5 9 4 6 4 8 4 4 6 1 7 0 1 9 8 7 5 0 0 9 4 4 8 0 4 8\n",
      " 9 7 7 8 7 9 7 0 4 8 8 4 1 4 4 2 8 1 1 7 2 4 7 0 2 1 6 2 1 9 2 4 4 1 3 8 4\n",
      " 5 3 1 2 9 2 8 8 5 1 3 0 3 7 2 6 0 0 7 0 1 6 8 2 5 1 9]\n",
      "Actual Digits : [5 3 7 7 6 3 2 0 0 5 7 2 1 7 4 2 6 6 9 0 7 5 3 8 4 2 6 6 5 2 3 4 7 8 6 1 7\n",
      " 2 6 7 9 6 3 9 1 1 0 6 9 4 6 8 0 1 3 5 0 6 6 8 1 5 9 4 5 1 0 6 6 8 0 5 3 5\n",
      " 1 6 4 3 3 9 1 5 9 4 9 4 7 0 8 7 1 4 8 5 9 3 0 6 7 9 9 2 2 3 1 5 9 3 2 6 3\n",
      " 0 0 6 9 1 8 9 4 3 2 7 9 0 6 8 0 4 1 4 1 3 0 2 1 9 3 4 3 4 0 1 2 5 4 4 8 0\n",
      " 2 6 2 4 5 3 0 5 4 7 0 4 2 7 8 9 7 1 3 1 0 8 1 6 3 5 3 6 9 3 1 5 3 0 3 7 4\n",
      " 9 1 9 0 8 5 6 2 8 8 4 9 5 1 2 7 3 9 5 7 7 1 1 7 4 4 6 5 2 6 6 8 1 8 5 4 9\n",
      " 8 1 1 1 1 8 2 3 5 0 5 0 2 1 8 4 5 4 0 6 4 9 6 2 2 7 6 9 8 5 7 8 0 2 0 1 4\n",
      " 9 2 3 2 5 9 9 5 7 0 7 5 9 4 6 4 8 4 4 6 1 7 0 1 9 8 7 5 0 0 9 4 4 8 0 4 8\n",
      " 9 7 7 8 7 9 7 0 4 8 8 4 1 4 4 2 8 1 1 7 2 4 7 0 2 1 6 2 1 9 2 4 4 1 3 8 4\n",
      " 5 3 1 2 9 2 8 8 5 1 3 0 3 3 2 6 0 0 7 0 1 6 9 2 5 1 9]\n"
     ]
    }
   ],
   "source": [
    "print(\"Predicted Digits :\", y_pred)\n",
    "print(\"Actual Digits :\", y_test)"
   ]
  },
  {
   "cell_type": "code",
   "execution_count": 34,
   "metadata": {},
   "outputs": [],
   "source": [
    "import joblib"
   ]
  },
  {
   "cell_type": "code",
   "execution_count": 38,
   "metadata": {},
   "outputs": [
    {
     "data": {
      "text/plain": [
       "['C:\\\\Users\\\\rakes\\\\Documents\\\\Desktop\\\\Bepec(CT)\\\\Machine Learning\\\\KNN\\\\KNN-Handwritten-Digits.sav']"
      ]
     },
     "execution_count": 38,
     "metadata": {},
     "output_type": "execute_result"
    }
   ],
   "source": [
    "joblib.dump(model, r\"C:\\Users\\rakes\\Documents\\Desktop\\Bepec(CT)\\Machine Learning\\KNN\\KNN-Handwritten-Digits.sav\")"
   ]
  },
  {
   "cell_type": "code",
   "execution_count": null,
   "metadata": {},
   "outputs": [],
   "source": []
  }
 ],
 "metadata": {
  "kernelspec": {
   "display_name": "Python 3",
   "language": "python",
   "name": "python3"
  },
  "language_info": {
   "codemirror_mode": {
    "name": "ipython",
    "version": 3
   },
   "file_extension": ".py",
   "mimetype": "text/x-python",
   "name": "python",
   "nbconvert_exporter": "python",
   "pygments_lexer": "ipython3",
   "version": "3.7.3"
  },
  "toc": {
   "base_numbering": 1,
   "nav_menu": {},
   "number_sections": true,
   "sideBar": true,
   "skip_h1_title": false,
   "title_cell": "Table of Contents",
   "title_sidebar": "Contents",
   "toc_cell": false,
   "toc_position": {},
   "toc_section_display": true,
   "toc_window_display": false
  }
 },
 "nbformat": 4,
 "nbformat_minor": 4
}
